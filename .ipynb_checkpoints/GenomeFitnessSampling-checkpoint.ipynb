{
 "cells": [
  {
   "cell_type": "code",
   "execution_count": 1,
   "metadata": {},
   "outputs": [],
   "source": [
    "import numpy as np\n",
    "import pandas as pd\n",
    "import collections as collect\n",
    "import os\n",
    "from IPython.display import clear_output"
   ]
  },
  {
   "cell_type": "code",
   "execution_count": 2,
   "metadata": {},
   "outputs": [],
   "source": [
    "popSize=50000"
   ]
  },
  {
   "cell_type": "code",
   "execution_count": 3,
   "metadata": {},
   "outputs": [],
   "source": [
    "def controller(popSize,Fitnesses,Freqs,Statuses,outfile,statList=[\"B\",\"N\",\"D\",\"L\",\"All\"]):\n",
    "    #reads and writes inputs and outputs. \n",
    "    for Stat in statList:\n",
    "        WT=pd.read_csv(Fitnesses) #read in Fitness Table\n",
    "        WT=WT.fillna(0.0)\n",
    "        FT=pd.read_csv(Freqs)     #read in Freq Table\n",
    "        FT=FT.fillna(0.0)\n",
    "        ST=pd.read_csv(Statuses)     #read in Freq Table\n",
    "        genomeCounts=Counter(mask(WT,ST,Stat),FT,popSize)#Run function to sample and count genomes\n",
    "        PD=convert(genomeCounts)\n",
    "        PD.to_csv(Stat+outfile)\n",
    "    #clear_output()\n",
    "    print(\"Complete. Outfile \"+outfile+\" written.\")"
   ]
  },
  {
   "cell_type": "code",
   "execution_count": 10,
   "metadata": {},
   "outputs": [],
   "source": [
    "def mask(WT,ST,Stat):\n",
    "    if Stat==\"All\":\n",
    "        pass\n",
    "    else:\n",
    "        for col in WT.columns[4:]:\n",
    "            print(col)\n",
    "            WT[col].loc[ST[col]!=Stat]=1.0#mask all mutations not of type Stat in genome        \n",
    "    return(WT)"
   ]
  },
  {
   "cell_type": "code",
   "execution_count": 11,
   "metadata": {
    "scrolled": true
   },
   "outputs": [],
   "source": [
    "def Counter(WT,FT,popSize): \n",
    "    # executes runSampling(), computes product of fitnesses after sampling. \n",
    "    # RETURNS genome fitness as product of individual sampled fitnesses. \n",
    "    genomeCounts=dict()\n",
    "    for H in WT.host.unique():\n",
    "        genomeCounts[H]={}\n",
    "        for S in WT.set.unique():\n",
    "            genomeCounts[H][S]={}\n",
    "            for passage in WT.passage.unique():\n",
    "                print(passage)\n",
    "                print(H)\n",
    "                print(S)\n",
    "                print(H+\"_\"+S+\"_\"+passage)\n",
    "                genomeExpectations=runSampling(H,S,passage,popSize,WT,FT)\n",
    "                print(\"Tabulating...\")\n",
    "                genomeCounts[H][S][passage]=[genome.prod() for genome in genomeExpectations]\n",
    "                print(\"\\t...done.\")\n",
    "                clear_output()\n",
    "    print(genomeCounts)\n",
    "    return(genomeCounts)"
   ]
  },
  {
   "cell_type": "code",
   "execution_count": 12,
   "metadata": {
    "scrolled": true
   },
   "outputs": [],
   "source": [
    "def runSampling(H,S,passage,popSize,WT,FT):#prepares the matrices for sampling, runs stateSampler() on each vector\n",
    "    colnames=WT.columns\n",
    "    fDF=FT.loc[(FT.set==S)&(FT.host==H)&(FT.passage==passage),:]\n",
    "    pArray=np.array(fDF.iloc[:,4:])\n",
    "    wDF=WT.loc[(WT.set==S)&(WT.host==H)&(WT.passage==passage),:]\n",
    "    wArray=np.array(wDF.iloc[:,4:])\n",
    "    popSample=np.array(stateSampler(pArray,wArray,popSize,colnames))\n",
    "    genomes=popSample.transpose()\n",
    "    return(genomes)"
   ]
  },
  {
   "cell_type": "code",
   "execution_count": 13,
   "metadata": {},
   "outputs": [],
   "source": [
    "def stateSampler(pArray,wArray,N,colnames):#samples alleles weighted by empirical frequencies\n",
    "    print(\"Sampling \"+str(popSize)+\" genomes...\")\n",
    "    choice=[np.random.choice(a=wArray[i], p=pArray[i], size=N) for i in range(len(pArray))] #position\n",
    "    print(\"\\t...done.\\n\")\n",
    "    return choice"
   ]
  },
  {
   "cell_type": "code",
   "execution_count": 14,
   "metadata": {},
   "outputs": [],
   "source": [
    "def convert(genomeCounts):#converts to panda DF from Count dicts\n",
    "    clear_output()\n",
    "    i=0\n",
    "    PD=pd.DataFrame()\n",
    "    print(\"Converting output...\")\n",
    "    for H in genomeCounts.keys():\n",
    "        for S in genomeCounts[H].keys():\n",
    "            for passage in genomeCounts[H][S].keys():\n",
    "                PDentries=pd.DataFrame.from_dict(genomeCounts[H][S][passage])\n",
    "                name=H+\"_\"+S+\"_\"+passage\n",
    "                PDentries[\"name\"]=name\n",
    "                PD=PD.append(PDentries)\n",
    "    print(\"...done.\")\n",
    "    return(PD)"
   ]
  },
  {
   "cell_type": "code",
   "execution_count": 16,
   "metadata": {},
   "outputs": [
    {
     "name": "stdout",
     "output_type": "stream",
     "text": [
      "Converting output...\n",
      "...done.\n",
      "Complete. Outfile _FitnessSamples.csv written.\n"
     ]
    }
   ],
   "source": [
    "infileFitness=\"./Data_Tables/fitnessTable_Sampling.csv\"\n",
    "infileFreq=\"./Data_Tables/freqTable_Sampling.csv\"\n",
    "infileStatus=\"./Data_Tables/statusTable_Sampling.csv\"\n",
    "\n",
    "controller(popSize,infileFitness,infileFreq,infileStatus,outfile=\"_FitnessSamples.csv\")"
   ]
  },
  {
   "cell_type": "code",
   "execution_count": null,
   "metadata": {},
   "outputs": [],
   "source": []
  },
  {
   "cell_type": "code",
   "execution_count": null,
   "metadata": {},
   "outputs": [],
   "source": []
  }
 ],
 "metadata": {
  "kernelspec": {
   "display_name": "Python 3",
   "language": "python",
   "name": "python3"
  },
  "language_info": {
   "codemirror_mode": {
    "name": "ipython",
    "version": 3
   },
   "file_extension": ".py",
   "mimetype": "text/x-python",
   "name": "python",
   "nbconvert_exporter": "python",
   "pygments_lexer": "ipython3",
   "version": "3.8.5"
  }
 },
 "nbformat": 4,
 "nbformat_minor": 1
}
